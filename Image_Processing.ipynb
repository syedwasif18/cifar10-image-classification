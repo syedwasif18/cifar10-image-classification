{
  "cells": [
    {
      "cell_type": "markdown",
      "metadata": {
        "id": "view-in-github",
        "colab_type": "text"
      },
      "source": [
        "<a href=\"https://colab.research.google.com/github/syedwasif18/cifar10-image-classification/blob/main/Image_Processing.ipynb\" target=\"_parent\"><img src=\"https://colab.research.google.com/assets/colab-badge.svg\" alt=\"Open In Colab\"/></a>"
      ]
    },
    {
      "cell_type": "code",
      "execution_count": null,
      "id": "74f17072-d588-4f8c-bbc2-99f7ec9802f3",
      "metadata": {
        "id": "74f17072-d588-4f8c-bbc2-99f7ec9802f3",
        "outputId": "b827423a-aee2-45c6-a68a-27a9ac2b0fd9"
      },
      "outputs": [
        {
          "name": "stdout",
          "output_type": "stream",
          "text": [
            "Requirement already satisfied: tensorflow in c:\\users\\wasif\\anaconda3\\lib\\site-packages (2.17.0)\n",
            "Requirement already satisfied: tensorflow-intel==2.17.0 in c:\\users\\wasif\\anaconda3\\lib\\site-packages (from tensorflow) (2.17.0)\n",
            "Requirement already satisfied: absl-py>=1.0.0 in c:\\users\\wasif\\anaconda3\\lib\\site-packages (from tensorflow-intel==2.17.0->tensorflow) (2.1.0)\n",
            "Requirement already satisfied: astunparse>=1.6.0 in c:\\users\\wasif\\anaconda3\\lib\\site-packages (from tensorflow-intel==2.17.0->tensorflow) (1.6.3)\n",
            "Requirement already satisfied: flatbuffers>=24.3.25 in c:\\users\\wasif\\anaconda3\\lib\\site-packages (from tensorflow-intel==2.17.0->tensorflow) (24.3.25)\n",
            "Requirement already satisfied: gast!=0.5.0,!=0.5.1,!=0.5.2,>=0.2.1 in c:\\users\\wasif\\anaconda3\\lib\\site-packages (from tensorflow-intel==2.17.0->tensorflow) (0.6.0)\n",
            "Requirement already satisfied: google-pasta>=0.1.1 in c:\\users\\wasif\\anaconda3\\lib\\site-packages (from tensorflow-intel==2.17.0->tensorflow) (0.2.0)\n",
            "Requirement already satisfied: h5py>=3.10.0 in c:\\users\\wasif\\anaconda3\\lib\\site-packages (from tensorflow-intel==2.17.0->tensorflow) (3.11.0)\n",
            "Requirement already satisfied: libclang>=13.0.0 in c:\\users\\wasif\\anaconda3\\lib\\site-packages (from tensorflow-intel==2.17.0->tensorflow) (18.1.1)\n",
            "Requirement already satisfied: ml-dtypes<0.5.0,>=0.3.1 in c:\\users\\wasif\\anaconda3\\lib\\site-packages (from tensorflow-intel==2.17.0->tensorflow) (0.4.1)\n",
            "Requirement already satisfied: opt-einsum>=2.3.2 in c:\\users\\wasif\\anaconda3\\lib\\site-packages (from tensorflow-intel==2.17.0->tensorflow) (3.3.0)\n",
            "Requirement already satisfied: packaging in c:\\users\\wasif\\anaconda3\\lib\\site-packages (from tensorflow-intel==2.17.0->tensorflow) (23.1)\n",
            "Requirement already satisfied: protobuf!=4.21.0,!=4.21.1,!=4.21.2,!=4.21.3,!=4.21.4,!=4.21.5,<5.0.0dev,>=3.20.3 in c:\\users\\wasif\\anaconda3\\lib\\site-packages (from tensorflow-intel==2.17.0->tensorflow) (3.20.3)\n",
            "Requirement already satisfied: requests<3,>=2.21.0 in c:\\users\\wasif\\anaconda3\\lib\\site-packages (from tensorflow-intel==2.17.0->tensorflow) (2.31.0)\n",
            "Requirement already satisfied: setuptools in c:\\users\\wasif\\anaconda3\\lib\\site-packages (from tensorflow-intel==2.17.0->tensorflow) (68.2.2)\n",
            "Requirement already satisfied: six>=1.12.0 in c:\\users\\wasif\\anaconda3\\lib\\site-packages (from tensorflow-intel==2.17.0->tensorflow) (1.16.0)\n",
            "Requirement already satisfied: termcolor>=1.1.0 in c:\\users\\wasif\\anaconda3\\lib\\site-packages (from tensorflow-intel==2.17.0->tensorflow) (2.4.0)\n",
            "Requirement already satisfied: typing-extensions>=3.6.6 in c:\\users\\wasif\\anaconda3\\lib\\site-packages (from tensorflow-intel==2.17.0->tensorflow) (4.9.0)\n",
            "Requirement already satisfied: wrapt>=1.11.0 in c:\\users\\wasif\\anaconda3\\lib\\site-packages (from tensorflow-intel==2.17.0->tensorflow) (1.14.1)\n",
            "Requirement already satisfied: grpcio<2.0,>=1.24.3 in c:\\users\\wasif\\anaconda3\\lib\\site-packages (from tensorflow-intel==2.17.0->tensorflow) (1.66.1)\n",
            "Requirement already satisfied: tensorboard<2.18,>=2.17 in c:\\users\\wasif\\anaconda3\\lib\\site-packages (from tensorflow-intel==2.17.0->tensorflow) (2.17.1)\n",
            "Requirement already satisfied: keras>=3.2.0 in c:\\users\\wasif\\anaconda3\\lib\\site-packages (from tensorflow-intel==2.17.0->tensorflow) (3.5.0)\n",
            "Requirement already satisfied: tensorflow-io-gcs-filesystem>=0.23.1 in c:\\users\\wasif\\anaconda3\\lib\\site-packages (from tensorflow-intel==2.17.0->tensorflow) (0.31.0)\n",
            "Requirement already satisfied: numpy<2.0.0,>=1.23.5 in c:\\users\\wasif\\anaconda3\\lib\\site-packages (from tensorflow-intel==2.17.0->tensorflow) (1.26.4)\n",
            "Requirement already satisfied: wheel<1.0,>=0.23.0 in c:\\users\\wasif\\anaconda3\\lib\\site-packages (from astunparse>=1.6.0->tensorflow-intel==2.17.0->tensorflow) (0.41.2)\n",
            "Requirement already satisfied: rich in c:\\users\\wasif\\anaconda3\\lib\\site-packages (from keras>=3.2.0->tensorflow-intel==2.17.0->tensorflow) (13.3.5)\n",
            "Requirement already satisfied: namex in c:\\users\\wasif\\anaconda3\\lib\\site-packages (from keras>=3.2.0->tensorflow-intel==2.17.0->tensorflow) (0.0.8)\n",
            "Requirement already satisfied: optree in c:\\users\\wasif\\anaconda3\\lib\\site-packages (from keras>=3.2.0->tensorflow-intel==2.17.0->tensorflow) (0.12.1)\n",
            "Requirement already satisfied: charset-normalizer<4,>=2 in c:\\users\\wasif\\anaconda3\\lib\\site-packages (from requests<3,>=2.21.0->tensorflow-intel==2.17.0->tensorflow) (2.0.4)\n",
            "Requirement already satisfied: idna<4,>=2.5 in c:\\users\\wasif\\anaconda3\\lib\\site-packages (from requests<3,>=2.21.0->tensorflow-intel==2.17.0->tensorflow) (3.4)\n",
            "Requirement already satisfied: urllib3<3,>=1.21.1 in c:\\users\\wasif\\anaconda3\\lib\\site-packages (from requests<3,>=2.21.0->tensorflow-intel==2.17.0->tensorflow) (2.0.7)\n",
            "Requirement already satisfied: certifi>=2017.4.17 in c:\\users\\wasif\\anaconda3\\lib\\site-packages (from requests<3,>=2.21.0->tensorflow-intel==2.17.0->tensorflow) (2024.2.2)\n",
            "Requirement already satisfied: markdown>=2.6.8 in c:\\users\\wasif\\anaconda3\\lib\\site-packages (from tensorboard<2.18,>=2.17->tensorflow-intel==2.17.0->tensorflow) (3.4.1)\n",
            "Requirement already satisfied: tensorboard-data-server<0.8.0,>=0.7.0 in c:\\users\\wasif\\anaconda3\\lib\\site-packages (from tensorboard<2.18,>=2.17->tensorflow-intel==2.17.0->tensorflow) (0.7.2)\n",
            "Requirement already satisfied: werkzeug>=1.0.1 in c:\\users\\wasif\\anaconda3\\lib\\site-packages (from tensorboard<2.18,>=2.17->tensorflow-intel==2.17.0->tensorflow) (2.2.3)\n",
            "Requirement already satisfied: MarkupSafe>=2.1.1 in c:\\users\\wasif\\anaconda3\\lib\\site-packages (from werkzeug>=1.0.1->tensorboard<2.18,>=2.17->tensorflow-intel==2.17.0->tensorflow) (2.1.3)\n",
            "Requirement already satisfied: markdown-it-py<3.0.0,>=2.2.0 in c:\\users\\wasif\\anaconda3\\lib\\site-packages (from rich->keras>=3.2.0->tensorflow-intel==2.17.0->tensorflow) (2.2.0)\n",
            "Requirement already satisfied: pygments<3.0.0,>=2.13.0 in c:\\users\\wasif\\anaconda3\\lib\\site-packages (from rich->keras>=3.2.0->tensorflow-intel==2.17.0->tensorflow) (2.15.1)\n",
            "Requirement already satisfied: mdurl~=0.1 in c:\\users\\wasif\\anaconda3\\lib\\site-packages (from markdown-it-py<3.0.0,>=2.2.0->rich->keras>=3.2.0->tensorflow-intel==2.17.0->tensorflow) (0.1.0)\n"
          ]
        }
      ],
      "source": [
        "!pip install tensorflow"
      ]
    },
    {
      "cell_type": "code",
      "execution_count": null,
      "id": "5d8dc7c9-e86d-4624-b308-d3766413ffb4",
      "metadata": {
        "id": "5d8dc7c9-e86d-4624-b308-d3766413ffb4"
      },
      "outputs": [],
      "source": [
        "import pandas as pd\n",
        "import numpy as np\n",
        "import tensorflow as tf\n",
        "from tensorflow.keras.models import Sequential\n",
        "from tensorflow.keras.layers import Dense, Flatten\n",
        "from tensorflow.keras.utils import to_categorical\n",
        "from sklearn.model_selection import train_test_split"
      ]
    },
    {
      "cell_type": "code",
      "execution_count": null,
      "id": "db2d155e-6c24-46f0-bb0c-bc54bee2c2e3",
      "metadata": {
        "id": "db2d155e-6c24-46f0-bb0c-bc54bee2c2e3"
      },
      "outputs": [],
      "source": [
        "labels = pd.read_csv(\"D:/cifar-10/trainLabels.csv\")\n",
        "train_images_dir = 'D:/cifar-10/train/train'\n",
        "test_images_dir = 'D:/cifar-10/test/test'"
      ]
    },
    {
      "cell_type": "code",
      "execution_count": null,
      "id": "d28b12a6-7867-4ea4-aabd-962e8283a167",
      "metadata": {
        "id": "d28b12a6-7867-4ea4-aabd-962e8283a167"
      },
      "outputs": [],
      "source": [
        "label_map = {label: idx for idx, label in enumerate(labels['label'].unique())}\n",
        "labels['label'] = labels['label'].map(label_map)"
      ]
    },
    {
      "cell_type": "code",
      "execution_count": null,
      "id": "3c9a8b51-fb47-437f-b9b7-3e1b2b09ba79",
      "metadata": {
        "id": "3c9a8b51-fb47-437f-b9b7-3e1b2b09ba79"
      },
      "outputs": [],
      "source": [
        "import os"
      ]
    },
    {
      "cell_type": "code",
      "execution_count": null,
      "id": "2e38a61c-c1a1-44e0-885b-e5dcdca36f30",
      "metadata": {
        "id": "2e38a61c-c1a1-44e0-885b-e5dcdca36f30"
      },
      "outputs": [],
      "source": [
        "def load_images(image_dir, image_size=(32, 32)):\n",
        "    image_paths = [os.path.join(image_dir, img_file) for img_file in os.listdir(image_dir)]\n",
        "\n",
        "    def _load_and_preprocess_image(image_path):\n",
        "        img = tf.io.read_file(image_path)\n",
        "        img = tf.image.decode_png(img, channels=3)\n",
        "        img = tf.image.resize(img, image_size)\n",
        "        img = img / 255.0\n",
        "        return img\n",
        "\n",
        "    images = [tf.numpy_function(_load_and_preprocess_image, [path], tf.float32) for path in image_paths]\n",
        "    images = tf.stack(images)\n",
        "\n",
        "    image_ids = [int(os.path.splitext(os.path.basename(path))[0]) for path in image_paths]\n",
        "    image_ids = np.array(image_ids)\n",
        "\n",
        "    return images, image_ids"
      ]
    },
    {
      "cell_type": "code",
      "execution_count": null,
      "id": "719b4177-62d8-42fa-83ef-5f127a024b40",
      "metadata": {
        "id": "719b4177-62d8-42fa-83ef-5f127a024b40"
      },
      "outputs": [],
      "source": [
        "train_images, train_image_ids = load_images(train_images_dir)"
      ]
    },
    {
      "cell_type": "code",
      "execution_count": null,
      "id": "d4789f42-936a-4af5-b191-ebe4d0cf20f4",
      "metadata": {
        "id": "d4789f42-936a-4af5-b191-ebe4d0cf20f4"
      },
      "outputs": [],
      "source": [
        "train_data = pd.DataFrame({'id': train_image_ids, 'image': list(train_images.numpy())})\n",
        "train_data = pd.merge(train_data, labels, on='id')"
      ]
    },
    {
      "cell_type": "code",
      "execution_count": null,
      "id": "c2366e2f-fead-41ab-b789-018f48026afc",
      "metadata": {
        "id": "c2366e2f-fead-41ab-b789-018f48026afc"
      },
      "outputs": [],
      "source": [
        "X_train = np.array(train_data['image'].tolist())\n",
        "y_train = np.array(train_data['label'])"
      ]
    },
    {
      "cell_type": "code",
      "execution_count": null,
      "id": "0c0f8fcc-9de0-4c78-8fdd-5e8a2e10451a",
      "metadata": {
        "id": "0c0f8fcc-9de0-4c78-8fdd-5e8a2e10451a"
      },
      "outputs": [],
      "source": [
        "y_train_encoded = to_categorical(y_train)"
      ]
    },
    {
      "cell_type": "code",
      "execution_count": null,
      "id": "52ad6fcd-d40c-40cf-a361-112ac4ff1bef",
      "metadata": {
        "id": "52ad6fcd-d40c-40cf-a361-112ac4ff1bef"
      },
      "outputs": [],
      "source": [
        "X_train, X_val, y_train, y_val = train_test_split(X_train, y_train_encoded, test_size=0.2, random_state=42)"
      ]
    },
    {
      "cell_type": "code",
      "execution_count": null,
      "id": "1722e91f-f27c-439e-b3d1-b4b2985d3c5b",
      "metadata": {
        "id": "1722e91f-f27c-439e-b3d1-b4b2985d3c5b",
        "outputId": "d268d56d-89e0-4a6a-9043-0adf9aad8014"
      },
      "outputs": [
        {
          "name": "stderr",
          "output_type": "stream",
          "text": [
            "C:\\Users\\wasif\\anaconda3\\Lib\\site-packages\\keras\\src\\layers\\reshaping\\flatten.py:37: UserWarning: Do not pass an `input_shape`/`input_dim` argument to a layer. When using Sequential models, prefer using an `Input(shape)` object as the first layer in the model instead.\n",
            "  super().__init__(**kwargs)\n"
          ]
        }
      ],
      "source": [
        "model = Sequential([\n",
        "    Flatten(input_shape=(32, 32, 3)),\n",
        "    Dense(128, activation='relu'),\n",
        "    Dense(64, activation='relu'),\n",
        "    Dense(10, activation='softmax')  # 10 classes for CIFAR-10\n",
        "])"
      ]
    },
    {
      "cell_type": "code",
      "execution_count": null,
      "id": "e8d1702e-a3e9-4d2c-b9f4-6780e1906bd3",
      "metadata": {
        "id": "e8d1702e-a3e9-4d2c-b9f4-6780e1906bd3"
      },
      "outputs": [],
      "source": [
        "model.compile(optimizer='adam',\n",
        "              loss='categorical_crossentropy',\n",
        "              metrics=['accuracy'])"
      ]
    },
    {
      "cell_type": "code",
      "execution_count": null,
      "id": "025e4877-2777-4387-b923-2920d51bc86c",
      "metadata": {
        "id": "025e4877-2777-4387-b923-2920d51bc86c",
        "outputId": "9469dbbc-662e-48c6-f6da-3f741a23f144"
      },
      "outputs": [
        {
          "name": "stdout",
          "output_type": "stream",
          "text": [
            "Epoch 1/10\n",
            "\u001b[1m625/625\u001b[0m \u001b[32m━━━━━━━━━━━━━━━━━━━━\u001b[0m\u001b[37m\u001b[0m \u001b[1m9s\u001b[0m 8ms/step - accuracy: 0.2585 - loss: 2.0424 - val_accuracy: 0.3674 - val_loss: 1.7840\n",
            "Epoch 2/10\n",
            "\u001b[1m625/625\u001b[0m \u001b[32m━━━━━━━━━━━━━━━━━━━━\u001b[0m\u001b[37m\u001b[0m \u001b[1m4s\u001b[0m 7ms/step - accuracy: 0.3710 - loss: 1.7542 - val_accuracy: 0.3907 - val_loss: 1.7298\n",
            "Epoch 3/10\n",
            "\u001b[1m625/625\u001b[0m \u001b[32m━━━━━━━━━━━━━━━━━━━━\u001b[0m\u001b[37m\u001b[0m \u001b[1m4s\u001b[0m 6ms/step - accuracy: 0.4024 - loss: 1.6695 - val_accuracy: 0.4136 - val_loss: 1.6530\n",
            "Epoch 4/10\n",
            "\u001b[1m625/625\u001b[0m \u001b[32m━━━━━━━━━━━━━━━━━━━━\u001b[0m\u001b[37m\u001b[0m \u001b[1m4s\u001b[0m 7ms/step - accuracy: 0.4219 - loss: 1.6160 - val_accuracy: 0.4204 - val_loss: 1.6357\n",
            "Epoch 5/10\n",
            "\u001b[1m625/625\u001b[0m \u001b[32m━━━━━━━━━━━━━━━━━━━━\u001b[0m\u001b[37m\u001b[0m \u001b[1m4s\u001b[0m 7ms/step - accuracy: 0.4340 - loss: 1.5785 - val_accuracy: 0.4426 - val_loss: 1.5864\n",
            "Epoch 6/10\n",
            "\u001b[1m625/625\u001b[0m \u001b[32m━━━━━━━━━━━━━━━━━━━━\u001b[0m\u001b[37m\u001b[0m \u001b[1m4s\u001b[0m 7ms/step - accuracy: 0.4476 - loss: 1.5455 - val_accuracy: 0.4358 - val_loss: 1.6106\n",
            "Epoch 7/10\n",
            "\u001b[1m625/625\u001b[0m \u001b[32m━━━━━━━━━━━━━━━━━━━━\u001b[0m\u001b[37m\u001b[0m \u001b[1m4s\u001b[0m 7ms/step - accuracy: 0.4528 - loss: 1.5322 - val_accuracy: 0.4520 - val_loss: 1.5554\n",
            "Epoch 8/10\n",
            "\u001b[1m625/625\u001b[0m \u001b[32m━━━━━━━━━━━━━━━━━━━━\u001b[0m\u001b[37m\u001b[0m \u001b[1m5s\u001b[0m 8ms/step - accuracy: 0.4644 - loss: 1.5061 - val_accuracy: 0.4569 - val_loss: 1.5452\n",
            "Epoch 9/10\n",
            "\u001b[1m625/625\u001b[0m \u001b[32m━━━━━━━━━━━━━━━━━━━━\u001b[0m\u001b[37m\u001b[0m \u001b[1m5s\u001b[0m 7ms/step - accuracy: 0.4679 - loss: 1.4945 - val_accuracy: 0.4578 - val_loss: 1.5467\n",
            "Epoch 10/10\n",
            "\u001b[1m625/625\u001b[0m \u001b[32m━━━━━━━━━━━━━━━━━━━━\u001b[0m\u001b[37m\u001b[0m \u001b[1m4s\u001b[0m 7ms/step - accuracy: 0.4747 - loss: 1.4803 - val_accuracy: 0.4548 - val_loss: 1.5377\n"
          ]
        }
      ],
      "source": [
        "history = model.fit(X_train, y_train, epochs=10, validation_data=(X_val, y_val), batch_size=64)"
      ]
    },
    {
      "cell_type": "code",
      "execution_count": null,
      "id": "0f2f5b8d-1b4e-4975-bdad-a63b74c5c189",
      "metadata": {
        "id": "0f2f5b8d-1b4e-4975-bdad-a63b74c5c189"
      },
      "outputs": [],
      "source": [
        "test_images, test_image_ids = load_images(test_images_dir)"
      ]
    },
    {
      "cell_type": "code",
      "execution_count": null,
      "id": "b2928e7d-76a7-4534-b3ac-31af6eb0b1a3",
      "metadata": {
        "id": "b2928e7d-76a7-4534-b3ac-31af6eb0b1a3",
        "outputId": "96a14d75-a190-4314-8dfe-a940a84c3306"
      },
      "outputs": [
        {
          "name": "stdout",
          "output_type": "stream",
          "text": [
            "\u001b[1m315/315\u001b[0m \u001b[32m━━━━━━━━━━━━━━━━━━━━\u001b[0m\u001b[37m\u001b[0m \u001b[1m1s\u001b[0m 4ms/step\n"
          ]
        }
      ],
      "source": [
        "test_images_normalized = test_images / 255.0\n",
        "y_pred = model.predict(test_images_normalized)\n",
        "y_pred_labels = np.argmax(y_pred, axis=1)"
      ]
    },
    {
      "cell_type": "code",
      "execution_count": null,
      "id": "f6a8ec27-65d3-44ef-8d6e-d114f0d61847",
      "metadata": {
        "id": "f6a8ec27-65d3-44ef-8d6e-d114f0d61847",
        "outputId": "4ad7fafa-c95e-48e0-ad47-c64b968683f5"
      },
      "outputs": [
        {
          "name": "stdout",
          "output_type": "stream",
          "text": [
            "Predictions saved to predictions.csv.\n"
          ]
        }
      ],
      "source": [
        "# Save the predictions in a CSV file\n",
        "predictions = pd.DataFrame({'id': test_image_ids, 'label': y_pred_labels})\n",
        "predictions.to_csv(\"D:/cifar-10/predictions.csv\", index=False)\n",
        "\n",
        "print(\"Predictions saved to predictions.csv.\")"
      ]
    },
    {
      "cell_type": "code",
      "execution_count": null,
      "id": "1ffe3b88-64fc-4823-8ada-459201a86fdc",
      "metadata": {
        "id": "1ffe3b88-64fc-4823-8ada-459201a86fdc",
        "outputId": "20cbbe57-2eb9-4c05-c931-cf774e25d673"
      },
      "outputs": [
        {
          "name": "stdout",
          "output_type": "stream",
          "text": [
            "\u001b[1m313/313\u001b[0m \u001b[32m━━━━━━━━━━━━━━━━━━━━\u001b[0m\u001b[37m\u001b[0m \u001b[1m1s\u001b[0m 3ms/step - accuracy: 0.4540 - loss: 1.5248\n",
            "Validation Accuracy: 0.454800009727478\n"
          ]
        }
      ],
      "source": [
        "# Evaluate the model on the validation set\n",
        "val_loss, val_accuracy = model.evaluate(X_val, y_val)\n",
        "print(f\"Validation Accuracy: {val_accuracy}\")"
      ]
    },
    {
      "cell_type": "code",
      "execution_count": null,
      "id": "92df4c8d-88a0-4a20-8e85-6bff7c4cc731",
      "metadata": {
        "id": "92df4c8d-88a0-4a20-8e85-6bff7c4cc731",
        "outputId": "f79bfe13-5ba5-4d44-89d6-937c0b2f2974"
      },
      "outputs": [
        {
          "name": "stdout",
          "output_type": "stream",
          "text": [
            "\u001b[1m313/313\u001b[0m \u001b[32m━━━━━━━━━━━━━━━━━━━━\u001b[0m\u001b[37m\u001b[0m \u001b[1m1s\u001b[0m 3ms/step\n",
            "Validation Accuracy: 0.4548\n",
            "Precision: 0.4611\n",
            "Recall: 0.4530\n",
            "F1-Score: 0.4435\n",
            "Confusion Matrix:\n",
            "[[548  42 252  19  31  47  20  60  27   7]\n",
            " [ 20 612  33 154  13  40  77  14  23  29]\n",
            " [100  43 551  14  63  97  27  22  21  41]\n",
            " [ 28 202  48 542  10  23  93  13   9  28]\n",
            " [123  30 349  32 187  80  44  43  48  55]\n",
            " [ 25  71 181  16  40 524  26  26  32  30]\n",
            " [ 13 102  58  54  14  15 681  20  17  84]\n",
            " [162  59 159  39  74  96  61 216 107  26]\n",
            " [141  38 164  16  67 105  42 148 250  10]\n",
            " [ 17  95  66  28  59  47 178  15  15 437]]\n",
            "Classification Report:\n",
            "              precision    recall  f1-score   support\n",
            "\n",
            "           0       0.47      0.52      0.49      1053\n",
            "           1       0.47      0.60      0.53      1015\n",
            "           2       0.30      0.56      0.39       979\n",
            "           3       0.59      0.54      0.57       996\n",
            "           4       0.34      0.19      0.24       991\n",
            "           5       0.49      0.54      0.51       971\n",
            "           6       0.55      0.64      0.59      1058\n",
            "           7       0.37      0.22      0.27       999\n",
            "           8       0.46      0.25      0.33       981\n",
            "           9       0.59      0.46      0.51       957\n",
            "\n",
            "    accuracy                           0.45     10000\n",
            "   macro avg       0.46      0.45      0.44     10000\n",
            "weighted avg       0.46      0.45      0.44     10000\n",
            "\n"
          ]
        }
      ],
      "source": [
        "from sklearn.metrics import precision_score, recall_score, f1_score, confusion_matrix, classification_report\n",
        "\n",
        "\n",
        "y_val_pred = np.argmax(model.predict(X_val), axis=1)\n",
        "y_val_true = np.argmax(y_val, axis=1)\n",
        "\n",
        "accuracy = np.mean(y_val_pred == y_val_true)\n",
        "precision = precision_score(y_val_true, y_val_pred, average='macro')\n",
        "recall = recall_score(y_val_true, y_val_pred, average='macro')\n",
        "f1 = f1_score(y_val_true, y_val_pred, average='macro')\n",
        "conf_matrix = confusion_matrix(y_val_true, y_val_pred)\n",
        "class_report = classification_report(y_val_true, y_val_pred)\n",
        "\n",
        "# Print performance metrics\n",
        "print(f\"Validation Accuracy: {accuracy:.4f}\")\n",
        "print(f\"Precision: {precision:.4f}\")\n",
        "print(f\"Recall: {recall:.4f}\")\n",
        "print(f\"F1-Score: {f1:.4f}\")\n",
        "print(f\"Confusion Matrix:\\n{conf_matrix}\")\n",
        "print(f\"Classification Report:\\n{class_report}\")"
      ]
    }
  ],
  "metadata": {
    "kernelspec": {
      "display_name": "Python 3 (ipykernel)",
      "language": "python",
      "name": "python3"
    },
    "language_info": {
      "codemirror_mode": {
        "name": "ipython",
        "version": 3
      },
      "file_extension": ".py",
      "mimetype": "text/x-python",
      "name": "python",
      "nbconvert_exporter": "python",
      "pygments_lexer": "ipython3",
      "version": "3.11.7"
    },
    "colab": {
      "provenance": [],
      "include_colab_link": true
    }
  },
  "nbformat": 4,
  "nbformat_minor": 5
}